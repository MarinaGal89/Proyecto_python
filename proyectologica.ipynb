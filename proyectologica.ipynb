{
 "cells": [
  {
   "cell_type": "markdown",
   "metadata": {},
   "source": [
    "1. Escribe una función que reciba una cadena de texto como parámetro y devuelva un diccionario con las frecuencias de cada letra en la cadena. Los espacios no deben ser considerados."
   ]
  },
  {
   "cell_type": "code",
   "execution_count": 61,
   "metadata": {},
   "outputs": [],
   "source": [
    "def frecuencia_letras (texto):\n",
    "    \"\"\"\n",
    "    Función para calcular la frecuencia de cada letra en  un texto\n",
    "\n",
    "    Args:\n",
    "    texto: cadena de texto en la que se contaràn las letras (str)\n",
    "    \n",
    "    Returns:\n",
    "    diccionario con las letras como claves y las frecuencias como valores (dict [str, int])\n",
    "    \"\"\"\n",
    "    frecuencias = {}\n",
    "    for letra in texto:\n",
    "        letra = letra.lower()  #convertimos en minuscula todas lasletras\n",
    "        if  not letra.isalpha(): #verificamos si la letra es alfabética\n",
    "            continue \n",
    "\n",
    "        frecuencias [letra] = frecuencias.get (letra, 0) +1\n",
    "    return frecuencias\n"
   ]
  },
  {
   "cell_type": "code",
   "execution_count": 62,
   "metadata": {},
   "outputs": [
    {
     "name": "stdout",
     "output_type": "stream",
     "text": [
      "El resultado de la función es: {'h': 1, 'o': 1, 'l': 3, 'a': 4, 'm': 1, 'r': 1, 'i': 1, 'n': 1, 'g': 1, 'u': 1, 's': 1}\n"
     ]
    }
   ],
   "source": [
    "texto = \"Hola, Marina Gallus\"\n",
    "output = frecuencia_letras (texto)\n",
    "print (f\"El resultado de la función es: {output}\")"
   ]
  },
  {
   "cell_type": "markdown",
   "metadata": {},
   "source": [
    "2. Dada una lista de números, obtén una nueva lista con el doble de cada valor. Usa la función map()"
   ]
  },
  {
   "cell_type": "code",
   "execution_count": 63,
   "metadata": {},
   "outputs": [
    {
     "name": "stdout",
     "output_type": "stream",
     "text": [
      "La lista que muestra el doble de cada numero es [4, 6, 8, 10, 12]\n"
     ]
    }
   ],
   "source": [
    "numeros =  [2, 3, 4, 5, 6]\n",
    "doble_numeros = list (map(lambda x: x*2, numeros))\n",
    "print (f\"La lista que muestra el doble de cada numero es {doble_numeros}\")"
   ]
  },
  {
   "cell_type": "markdown",
   "metadata": {},
   "source": [
    "3. Escribe una función que tome una lista de palabras y una palabra objetivo como parámetros. La función debe\n",
    "devolver una lista con todas las palabras de la lista original que contengan la palabra objetivo."
   ]
  },
  {
   "cell_type": "code",
   "execution_count": 64,
   "metadata": {},
   "outputs": [],
   "source": [
    "def lista_objetivo (lista_palabras, palabra_objetivo):\n",
    "    \"\"\"\n",
    "    Función para filtrar las palabras que contienen una palabra objetivo.\n",
    "    \n",
    "    Args:\n",
    "    lista_palabras: lista de palabras (list)\n",
    "    palabra_objetivo: palabra a buscar dentro de las palabras de la lista (str)\n",
    "\n",
    "    Returns:\n",
    "    Lista con las palabras que contienen la palabra objetivo (list)\n",
    "    \"\"\"\n",
    "    return [palabra for palabra in lista_palabras if palabra_objetivo in palabra]"
   ]
  },
  {
   "cell_type": "code",
   "execution_count": 65,
   "metadata": {},
   "outputs": [
    {
     "name": "stdout",
     "output_type": "stream",
     "text": [
      "El resultado de la función es: ['Marina', 'Caterina', 'Karina', 'Valentina']\n"
     ]
    }
   ],
   "source": [
    "lista_nombres = [\"Marina\", \"Caterina\", \"Adriana\", \"Karina\", \"Valentina\", \"Paola\", \"Silvia\"]\n",
    "output = lista_objetivo (lista_nombres, \"ina\")\n",
    "print (f\"El resultado de la función es: {output}\")"
   ]
  },
  {
   "cell_type": "markdown",
   "metadata": {},
   "source": [
    "4. Genera una función que calcule la diferencia entre los valores de dos listas. Usa la función map()\n"
   ]
  },
  {
   "cell_type": "code",
   "execution_count": 66,
   "metadata": {},
   "outputs": [],
   "source": [
    "def diferencia_listas (lista1, lista2):\n",
    "    \"\"\"\n",
    "    Una función que calcula la diferencia entre los valores de dos listas\n",
    "    \n",
    "    Args: \n",
    "    lista1: primera  lista de valores (list[float])\n",
    "    lista2: segudna lista de valores (list[float])\n",
    "\n",
    "    Returns:\n",
    "    lista con la diferencia de los valores de las listas dadas (list[float])\n",
    "   \"\"\"\n",
    "    return list(map(lambda x, y : x - y, lista1, lista2))"
   ]
  },
  {
   "cell_type": "code",
   "execution_count": 67,
   "metadata": {},
   "outputs": [
    {
     "name": "stdout",
     "output_type": "stream",
     "text": [
      "El resultado de la función es: [1, -7, 0, 11, 32]\n"
     ]
    }
   ],
   "source": [
    "lista_numeros1 = [18, 24, 33, 67, 89]\n",
    "lista_numeros2 = [17, 31, 33, 56, 57]\n",
    "output = diferencia_listas (lista_numeros1, lista_numeros2)\n",
    "print (f\"El resultado de la función es: {output}\")"
   ]
  },
  {
   "cell_type": "markdown",
   "metadata": {},
   "source": [
    "5. Ecribe una función que tome una lista de números como parámetro y un valor opcional nota_aprobado, que por defecto es 5. La función debe calcular la media de los números en la lista y determinar si la media es mayor o igual que nota aprobado. Si es así, el estado será \"aprobado\", de lo contrario, será \"suspenso\". La función debe devolver una tupla que contenga la media y el estado."
   ]
  },
  {
   "cell_type": "code",
   "execution_count": 68,
   "metadata": {},
   "outputs": [],
   "source": [
    "def media_estado (lista_numeros, valor_objetivo):\n",
    "    \"\"\"\n",
    "    Una función para calcular la media de una lista de numeros y comprobar si es mayor, igual o menos a un valor objetivo\n",
    "\n",
    "    Args:\n",
    "    lista_numero: lista de numeros de numeros (list[int, float])\n",
    "    valor_objetivo: valor de corte para aprobar o menos (int, float)\n",
    "\n",
    "    Return:\n",
    "    Una tupla con media y estado (tuple[float, str])\n",
    "    \"\"\"\n",
    "    media = sum(lista_numeros) / len(lista_numeros) # calculamos la media\n",
    "    estado = \"aprobado\" if media >=  valor_objetivo else \"suspenso\" # determinamos el estado\n",
    "    return (media, estado)\n",
    "        "
   ]
  },
  {
   "cell_type": "code",
   "execution_count": 69,
   "metadata": {},
   "outputs": [
    {
     "name": "stdout",
     "output_type": "stream",
     "text": [
      "El resultado de la función es: (6.166666666666667, 'aprobado')\n"
     ]
    }
   ],
   "source": [
    "notas_examenes =  [4, 5, 6, 5, 7, 10]\n",
    "nota_corte = 5\n",
    "output = media_estado (notas_examenes, nota_corte)\n",
    "print (f\"El resultado de la función es: {output}\")"
   ]
  },
  {
   "cell_type": "markdown",
   "metadata": {},
   "source": [
    "6. Escribe una función que calcule el factorial de un número de manera recursiva."
   ]
  },
  {
   "cell_type": "code",
   "execution_count": 70,
   "metadata": {},
   "outputs": [],
   "source": [
    "def factorial (n):\n",
    "    \"\"\"\n",
    "    Una función para calcular el factorial de un numero\n",
    "\n",
    "    Args:\n",
    "    n: numero del que vamos a calcular el factrorial (int, float)\n",
    "\n",
    "    Return:\n",
    "    Caso recursivo: si n es mayor que 1, calculamos n * factorial(n - 1)\n",
    "    \"\"\"\n",
    "    \n",
    "    if n == 0 or n == 1:  # Caso base: si n es 0 o 1, el factorial es 1 y se detiene la recursión\n",
    "        return 1\n",
    "    else:  # La función se llama a sí misma con n-1, repitiendo este proceso hasta llegar al caso base\n",
    "         return n * factorial (n - 1)\n"
   ]
  },
  {
   "cell_type": "code",
   "execution_count": 71,
   "metadata": {},
   "outputs": [
    {
     "name": "stdout",
     "output_type": "stream",
     "text": [
      "El resultado de la función es: 40320\n"
     ]
    }
   ],
   "source": [
    "n = 8\n",
    "output = factorial (n)\n",
    "print (f\"El resultado de la función es: {output}\")"
   ]
  },
  {
   "cell_type": "markdown",
   "metadata": {},
   "source": [
    "7. Genera una función que convierta una lista de tuplas a una lista de strings. Usa la función map()\n"
   ]
  },
  {
   "cell_type": "code",
   "execution_count": 72,
   "metadata": {},
   "outputs": [],
   "source": [
    "def tuple_to_string (lista_tuplas):\n",
    "    \"\"\"\n",
    "    Una función que convierte una lista de tuplas a una lista de cadenas de texto.\n",
    "\n",
    "    Args:\n",
    "    lista_tuplas: una lista de tuplas que se van a convertir a cadenas de texto\n",
    "\n",
    "    Return:\n",
    "    list: Una lista de cadenas de texto, donde cada tupla se convierte en  string.  \n",
    "     \"\"\"\n",
    "    return list (map(lambda tupla: str (tupla), lista_tuplas))\n"
   ]
  },
  {
   "cell_type": "code",
   "execution_count": 73,
   "metadata": {},
   "outputs": [
    {
     "name": "stdout",
     "output_type": "stream",
     "text": [
      "El resultado de la función es: ['(1, 1)', '(2, 3)', '(5, 8, 13, 21)']\n"
     ]
    }
   ],
   "source": [
    "lista_tuplas = [(1, 1),(2, 3), (5, 8, 13, 21)]\n",
    "output = tuple_to_string (lista_tuplas)\n",
    "print (f\"El resultado de la función es: {output}\")"
   ]
  },
  {
   "cell_type": "markdown",
   "metadata": {},
   "source": [
    "8. Escribe un programa que pida al usuario dos números e intente dividirlos. Si el usuario ingresa un valor no numérico o intenta dividir por cero, maneja esas excepciones de manera adecuada. Asegúrate de mostrar un mensaje indicando si la división fue exitosa o no."
   ]
  },
  {
   "cell_type": "code",
   "execution_count": 74,
   "metadata": {},
   "outputs": [
    {
     "name": "stdout",
     "output_type": "stream",
     "text": [
      "Por favor, inserta solo números\n"
     ]
    }
   ],
   "source": [
    "numero1 = input (\"inserta un numero\")\n",
    "numero2 = input (\"inserta otro numero\")\n",
    "\n",
    "try:\n",
    "    numero1 = int (numero1)\n",
    "    numero2 = int (numero2)\n",
    "    \n",
    "    if numero2 == 0:\n",
    "        print (\"numero2 tiene que ser distinto de cero\")\n",
    "    \n",
    "    else:\n",
    "        división_numeros = numero1 / numero2\n",
    "        print (f\"El resultado de la división es: {división_numeros}\")\n",
    "\n",
    "except ValueError:\n",
    "    print (\"Por favor, inserta solo números\")"
   ]
  },
  {
   "cell_type": "markdown",
   "metadata": {},
   "source": [
    "9. Escribe una función que tome una lista de nombres de mascotas como parámetro y devuelva una nueva lista excluyendo ciertas mascotas prohibidas en España. La lista de mascotas a excluir es [\"Mapache\", \"Tigre\", \"Serpiente Pitón\", \"Cocodrilo\", \"Oso\"].Usa la función filter()"
   ]
  },
  {
   "cell_type": "code",
   "execution_count": 75,
   "metadata": {},
   "outputs": [
    {
     "name": "stdout",
     "output_type": "stream",
     "text": [
      "El resultado de la función filter es : ['Perro', 'Gato', 'Rata', 'Conejo']\n"
     ]
    }
   ],
   "source": [
    "mascotas = [\"Perro\", \"Gato\", \"Rata\", \"Oso\", \"Conejo\", \"Tigre\", \"Cocodrilo\"]\n",
    "mascotas_excluir = [\"Mapache\", \"Tigre\", \"Serpiente Pitón\", \"Cocodrilo\", \"Oso\"]\n",
    "\n",
    "output =  list(filter (lambda mascota: mascota not in mascotas_excluir, mascotas))\n",
    "print (f\"El resultado de la función filter es : {output}\")"
   ]
  },
  {
   "cell_type": "markdown",
   "metadata": {},
   "source": [
    "10. Escribe una función que reciba una lista de números y calcule su promedio. Si la lista está vacía, lanza una excepción personalizada y maneja el error adecuadamente."
   ]
  },
  {
   "cell_type": "code",
   "execution_count": 76,
   "metadata": {},
   "outputs": [
    {
     "name": "stdout",
     "output_type": "stream",
     "text": [
      "El promedio es: 21.428571428571427\n"
     ]
    }
   ],
   "source": [
    "lista_numeros = [2, 4, 6, 7, 89, 34, 8]\n",
    "\n",
    "try:\n",
    "     promedio = sum  (lista_numeros) / len (lista_numeros)\n",
    "     print (f\"El promedio es: {promedio}\")\n",
    "\n",
    "except ZeroDivisionError:\n",
    "    print (\"La lista no puede estar vacía\")"
   ]
  },
  {
   "cell_type": "markdown",
   "metadata": {},
   "source": [
    "11. Escribe un programa que pida al usuario que introduzca su edad. Si el usuario ingresa un valor no numérico o un valor fuera del rango esperado (por ejemplo, menor que 0 o mayor que 120), maneja las excepciones adecuadamente.\n"
   ]
  },
  {
   "cell_type": "code",
   "execution_count": 77,
   "metadata": {},
   "outputs": [
    {
     "name": "stdout",
     "output_type": "stream",
     "text": [
      "por favor, ingrese un valor numerico\n"
     ]
    }
   ],
   "source": [
    "try: \n",
    "    edad_usuario = int(input (\"por favor, inserte su edad\"))\n",
    "    if edad_usuario <= 0:\n",
    "        print (\"la edad no puede tener un valor negativo\")\n",
    "    \n",
    "    elif edad_usuario >120:\n",
    "        print (\"Eres muy longevo, que suerte. ¿Seguro que has introducido bien tu edad?\")\n",
    "    \n",
    "    else: \n",
    "        print (f\"Tu edad es {edad_usuario}\")\n",
    "\n",
    "except ValueError:\n",
    "    print (\"por favor, ingrese un valor numerico\")"
   ]
  },
  {
   "cell_type": "markdown",
   "metadata": {},
   "source": [
    "12. Genera una función que al recibir una frase devuelva una lista con la longitud de cada palabra. Usa la función map()"
   ]
  },
  {
   "cell_type": "code",
   "execution_count": 78,
   "metadata": {},
   "outputs": [],
   "source": [
    "def longitud_palabras (frase):\n",
    "\n",
    " # Se usa el metodo split  para separar la frase en palabras. Usamos  map para obtener la longitud de cada una\n",
    "\n",
    "      return list(map (len, frase.split() ))\n",
    "\n"
   ]
  },
  {
   "cell_type": "code",
   "execution_count": 79,
   "metadata": {},
   "outputs": [
    {
     "name": "stdout",
     "output_type": "stream",
     "text": [
      "El resultado de la función es: [2, 5, 6]\n"
     ]
    }
   ],
   "source": [
    "frase = \"Me llamo Marina\"\n",
    "output = longitud_palabras (frase)\n",
    "print (f\"El resultado de la función es: {output}\")"
   ]
  },
  {
   "cell_type": "markdown",
   "metadata": {},
   "source": [
    "13. Genera una función la cual, para un conjunto de caracteres, devuelva una lista de tuplas con cada letra en\n",
    "mayúsculas y minúsculas. Las letras no pueden estar repetidas .Usa la función map()"
   ]
  },
  {
   "cell_type": "code",
   "execution_count": 80,
   "metadata": {},
   "outputs": [],
   "source": [
    "def generar_tuplas (caracteres):\n",
    "   # Elimina duplicados usando un set y luego usa map para generar las tuplas\n",
    "    return list(map (lambda c: (c.upper(), c.lower()), set(caracteres)))"
   ]
  },
  {
   "cell_type": "code",
   "execution_count": 81,
   "metadata": {},
   "outputs": [
    {
     "name": "stdout",
     "output_type": "stream",
     "text": [
      "El resultado de la función es: [('E', 'e'), ('S', 's'), ('A', 'a'), ('D', 'd'), ('U', 'u'), ('N', 'n'), ('T', 't'), ('I', 'i')]\n"
     ]
    }
   ],
   "source": [
    "caracteres = [\"e\", \"s\",\"t\",\"u\", \"d\", \"i\", \"a\", \"n\", \"t\", \"e\"]\n",
    "caracteres = set (caracteres)\n",
    "output = generar_tuplas (caracteres)\n",
    "print (f\"El resultado de la función es: {output}\")\n"
   ]
  },
  {
   "cell_type": "markdown",
   "metadata": {},
   "source": [
    "14. Crea una función que retorne las palabras de una lista de palabras que comience con una letra en especifico. Usa la\n",
    "función filter()\n"
   ]
  },
  {
   "cell_type": "code",
   "execution_count": 82,
   "metadata": {},
   "outputs": [],
   "source": [
    "def letra1_palabra(lista_palabras, letra):\n",
    "    \"\"\"\n",
    "    Una función que retorna las palabras de una lista que comienzan con una letra específica.\n",
    "\n",
    "    Args:\n",
    "    lista_palabras: una lista de palabras (str).\n",
    "    letra: una letra con la cual deben comenzar las palabras (str)\n",
    "\n",
    "    Return:\n",
    "    list: Una lista de palabras que comienzan con la letra especificada.\n",
    "    \"\"\"\n",
    "    return list(filter(lambda palabra: palabra.lower().startswith(letra.lower()), lista_palabras))\n",
    "\n"
   ]
  },
  {
   "cell_type": "code",
   "execution_count": 83,
   "metadata": {},
   "outputs": [
    {
     "name": "stdout",
     "output_type": "stream",
     "text": [
      "El resultado de la función es: ['Maria', 'Micheal', 'Marta']\n"
     ]
    }
   ],
   "source": [
    "lista_de_palabras = [\"Maria\", \"David\", \"Clara\", \"Micheal\", \"Marta\"]\n",
    "letra = \"m\"\n",
    "output = letra1_palabra (lista_de_palabras, letra)\n",
    "print (f\"El resultado de la función es: {output}\")\n"
   ]
  },
  {
   "cell_type": "markdown",
   "metadata": {},
   "source": [
    "15.Crea una función lambda que sume 3 a cada número de una lista dada."
   ]
  },
  {
   "cell_type": "code",
   "execution_count": 84,
   "metadata": {},
   "outputs": [],
   "source": [
    "def suma_tres (lista_numeros):\n",
    "    \"\"\"\n",
    "    Una función que suma 3 a cada número de una lista dada.\n",
    "\n",
    "    Args:\n",
    "    lista: una lista de números.\n",
    "\n",
    "    Return:\n",
    "    list: una nueva lista con 3 sumado a cada número de la lista original.\n",
    "    \"\"\"\n",
    "\n",
    "    return list (map (lambda x: x+3, lista_numeros))"
   ]
  },
  {
   "cell_type": "code",
   "execution_count": 85,
   "metadata": {},
   "outputs": [
    {
     "name": "stdout",
     "output_type": "stream",
     "text": [
      "El resultado de la función es: [5, 7, 8, 9, 12]\n"
     ]
    }
   ],
   "source": [
    "numeros = [2, 4, 5, 6, 9]\n",
    "output = suma_tres (numeros)\n",
    "print (f\"El resultado de la función es: {output}\")"
   ]
  },
  {
   "cell_type": "markdown",
   "metadata": {},
   "source": [
    "16. Escribe una función que tome una cadena de texto y un número entero n como parámetros y devuelva una lista de todas las palabras que sean más largas que n. Usa la función filter()"
   ]
  },
  {
   "cell_type": "code",
   "execution_count": 86,
   "metadata": {},
   "outputs": [],
   "source": [
    "def palabras_largas (texto, n):\n",
    "\n",
    "    \"\"\"\n",
    "    Esta función toma una cadena de texto y un número entero `n`, y devuelve una lista de todas las palabras \n",
    "    que tienen una longitud mayor a `n`.\n",
    "\n",
    "    Args:\n",
    "    texto (str): La cadena de texto que se desea procesar.\n",
    "    n (int): El número entero que se utiliza como referencia para la longitud de las palabras.\n",
    "\n",
    "    Returns:\n",
    "    list: Una lista con todas las palabras que tienen una longitud mayor a `n`.\n",
    "    \"\"\"\n",
    "    palabras = texto.split ()\n",
    "    return list(filter(lambda palabra: len(palabra) > n, palabras ))"
   ]
  },
  {
   "cell_type": "code",
   "execution_count": 87,
   "metadata": {},
   "outputs": [
    {
     "name": "stdout",
     "output_type": "stream",
     "text": [
      "El resultado de la función es: ['texto', 'prueba', 'función']\n"
     ]
    }
   ],
   "source": [
    "frase = \"este es un texto de prueba para mi función\"\n",
    "output = palabras_largas (frase, 4)\n",
    "print (f\"El resultado de la función es: {output}\")"
   ]
  },
  {
   "cell_type": "markdown",
   "metadata": {},
   "source": [
    "17. Crea una función que tome una lista de dígitos y devuelva el número correspondiente. Por ejemplo, [5,7,2]corresponde al número quinientos setenta y dos (572). Usa la función reduce()"
   ]
  },
  {
   "cell_type": "code",
   "execution_count": 88,
   "metadata": {},
   "outputs": [],
   "source": [
    "from functools import reduce\n",
    "def juntar_numeros (digitos):\n",
    "    \"\"\"\n",
    "    Convierte una lista de dígitos en el número correspondiente.\n",
    "\n",
    "    Args:\n",
    "    digitos (list): Una lista de números enteros que representan los dígitos de un número.\n",
    "\n",
    "    Returns:\n",
    "    int: El número entero correspondiente a los dígitos de la lista.\n",
    "    \"\"\"\n",
    "    return reduce (lambda x, y: x*10 + y, digitos )"
   ]
  },
  {
   "cell_type": "code",
   "execution_count": 89,
   "metadata": {},
   "outputs": [
    {
     "name": "stdout",
     "output_type": "stream",
     "text": [
      "El resultado de la función es: 2345\n"
     ]
    }
   ],
   "source": [
    "lista_de_numeros = [2, 3, 4, 5]\n",
    "output = juntar_numeros (lista_de_numeros)\n",
    "print (f\"El resultado de la función es: {output}\")"
   ]
  },
  {
   "cell_type": "markdown",
   "metadata": {},
   "source": [
    "18. Escribe un programa en Python que cree una lista de diccionarios que contenga información de estudiantes (nombre, edad, calificación) y use la función filter para extraer a los estudiantes con una calificación mayor o igual a 90. Usa la función filter()"
   ]
  },
  {
   "cell_type": "code",
   "execution_count": 90,
   "metadata": {},
   "outputs": [],
   "source": [
    "def filtro_calificacion(lista_diccionario):\n",
    "    \"\"\"\n",
    "    Filtra una lista de diccionarios de estudiantes para devolver aquellos cuya calificación \n",
    "    sea mayor o igual a 90.\n",
    "\n",
    "    Args:\n",
    "    lista_diccionario (list): Una lista de diccionarios, donde cada diccionario contiene la información \n",
    "     de un estudiante. Cada diccionario debe tener las claves 'nombre', 'edad', y 'calificacion'.\n",
    "\n",
    "    Returns:\n",
    "    list: Una lista de diccionarios que contiene solo a los estudiantes cuya calificación es mayor o igual a 90.\n",
    "\"\"\"\n",
    "    return list(filter(lambda estudiante: estudiante[\"calificacion\"] >= 90, lista_diccionario))"
   ]
  },
  {
   "cell_type": "code",
   "execution_count": 91,
   "metadata": {},
   "outputs": [
    {
     "name": "stdout",
     "output_type": "stream",
     "text": [
      "Los estudiantes con calificacion por encima del limite definido son: [{'nombre': 'Juan', 'edad': 20, 'calificacion': 95}, {'nombre': 'Pedro', 'edad': 21, 'calificacion': 92}]\n"
     ]
    }
   ],
   "source": [
    "estudiantes = [\n",
    "    {'nombre': 'Juan', 'edad': 20, 'calificacion': 95},\n",
    "    {'nombre': 'Ana', 'edad': 22, 'calificacion': 85},\n",
    "    {'nombre': 'Pedro', 'edad': 21, 'calificacion': 92},\n",
    "    {'nombre': 'Maria', 'edad': 23, 'calificacion': 88}\n",
    "]\n",
    "\n",
    "estudiantes_aptos = filtro_calificacion(estudiantes)\n",
    "print (f\"Los estudiantes con calificacion por encima del limite definido son: {estudiantes_aptos}\")"
   ]
  },
  {
   "cell_type": "markdown",
   "metadata": {},
   "source": [
    "19. Crea una función lambda que filtre los números impares de una lista dada."
   ]
  },
  {
   "cell_type": "code",
   "execution_count": 92,
   "metadata": {},
   "outputs": [],
   "source": [
    "def numeros_imapres (lista_numeros):\n",
    "    \"\"\"\n",
    "    Esta función toma una lista de números y devuelve una nueva lista que contiene solo los números \n",
    "    impares \n",
    "\n",
    "    Args:\n",
    "    lista_numeros (list): Una lista de números enteros.\n",
    "\n",
    "    Returns:\n",
    "    list: Una lista que contiene solo los números impares de la lista original.\n",
    "    \"\"\"\n",
    "    return list (filter (lambda n: n % 2 != 0, lista_numeros))"
   ]
  },
  {
   "cell_type": "code",
   "execution_count": 93,
   "metadata": {},
   "outputs": [
    {
     "name": "stdout",
     "output_type": "stream",
     "text": [
      "Los numeros impares son: [5, 7, 9]\n"
     ]
    }
   ],
   "source": [
    "lista_numeros = [2, 4, 5, 6, 7, 8, 9]\n",
    "output = numeros_imapres (lista_numeros)\n",
    "print (f\"Los numeros impares son: {output}\")"
   ]
  },
  {
   "cell_type": "markdown",
   "metadata": {},
   "source": [
    "20. Para una lista con elementos tipo integer y string obtén una nueva lista sólo con los valores int. Usa la función\n",
    "filter()"
   ]
  },
  {
   "cell_type": "code",
   "execution_count": 94,
   "metadata": {},
   "outputs": [],
   "source": [
    "def lista_int (lista_mixta):\n",
    "\n",
    "    \"\"\"\n",
    "    Esta función toma una lista que puede contener elementos de diferentes tipos y devuelve \n",
    "    una nueva lista que contiene solo los elementos que son numericos enteros.\n",
    "\n",
    "    Args:\n",
    "    lista_mixta (list): Una lista que puede contener elementos de cualquier tipo.\n",
    "\n",
    "    Returns:\n",
    "    list: Una lista que contiene solo los elementos de tipo numerico entero (int) de la lista original.\n",
    "    \"\"\"\n",
    "    return list (filter (lambda x: type (x) == int, lista_mixta))"
   ]
  },
  {
   "cell_type": "code",
   "execution_count": 95,
   "metadata": {},
   "outputs": [
    {
     "name": "stdout",
     "output_type": "stream",
     "text": [
      "La lista que incluye solo los valores de tipo integer contenidos en lista_mixta es: [2, 3, 4, 5]\n"
     ]
    }
   ],
   "source": [
    "lista_mixta = [2, 3, 4, 5, \"lunes\", \"martes\", \"miercoles\"]\n",
    "output = lista_int (lista_mixta)\n",
    "print (f\"La lista que incluye solo los valores de tipo integer contenidos en lista_mixta es: {output}\")"
   ]
  },
  {
   "cell_type": "markdown",
   "metadata": {},
   "source": [
    "21. Crea una función que calcule el cubo de un número dado mediante una función lambda"
   ]
  },
  {
   "cell_type": "code",
   "execution_count": 96,
   "metadata": {},
   "outputs": [],
   "source": [
    "def calcula_cubo (numero):\n",
    "    \"\"\"\n",
    "    Esta función toma un número como argumento y devuelve su cubo. El cálculo se realiza \n",
    "    mediante una función lambda que eleva el número a la potencia de 3.\n",
    "\n",
    "    Args:\n",
    "    numero (int/float): El número al que se le calculará el cubo. Puede ser un número entero o flotante.\n",
    "\n",
    "    Returns:\n",
    "    int/float: El cubo del número dado. El tipo de retorno depende del tipo de `numero`.\n",
    "    \"\"\"\n",
    "    cubo = lambda n : n**3\n",
    "    return cubo (numero)"
   ]
  },
  {
   "cell_type": "code",
   "execution_count": 97,
   "metadata": {},
   "outputs": [
    {
     "name": "stdout",
     "output_type": "stream",
     "text": [
      "El cubo del numero dado es: 157464\n"
     ]
    }
   ],
   "source": [
    "numero = 54\n",
    "output = calcula_cubo (numero)\n",
    "print (f\"El cubo del numero dado es: {output}\")\n"
   ]
  },
  {
   "cell_type": "markdown",
   "metadata": {},
   "source": [
    "22. Dada una lista numérica, obtén el producto total de los valores de dicha lista.Usa la función reduce() ."
   ]
  },
  {
   "cell_type": "code",
   "execution_count": 98,
   "metadata": {},
   "outputs": [],
   "source": [
    "def producto_numeros (lista_numeros):\n",
    "     \"\"\"\n",
    "    Esta función toma una lista de números y utiliza la función `reduce()` para calcular \n",
    "    el producto de todos los números de la lista. Aplica la operación de multiplicación de manera acumulativa\n",
    "    sobre los elementos de la lista.\n",
    "\n",
    "    Args:\n",
    "    lista_numeros (list): Una lista de números (enteros o flotantes) sobre los que se calculará el producto.\n",
    "\n",
    "    Returns:\n",
    "    int/float: El producto total de los números de la lista. El tipo de retorno depende de los valores en la lista.\n",
    "    \"\"\"\n",
    "    \n",
    "     return reduce (lambda x, y : x*y , lista_numeros)\n",
    "\n"
   ]
  },
  {
   "cell_type": "code",
   "execution_count": 99,
   "metadata": {},
   "outputs": [
    {
     "name": "stdout",
     "output_type": "stream",
     "text": [
      "El producto del los numeros de la lista dada es: 120\n"
     ]
    }
   ],
   "source": [
    "lista_numeros = [2, 3, 4, 5]\n",
    "output = producto_numeros (lista_numeros)\n",
    "print (f\"El producto del los numeros de la lista dada es: {output}\")"
   ]
  },
  {
   "cell_type": "markdown",
   "metadata": {},
   "source": [
    "23. Concatena una lista de palabras.Usa la función reduce() ."
   ]
  },
  {
   "cell_type": "code",
   "execution_count": 100,
   "metadata": {},
   "outputs": [
    {
     "name": "stdout",
     "output_type": "stream",
     "text": [
      "El tiempo hoy es muy bonito\n"
     ]
    }
   ],
   "source": [
    "lista_palabras = [\"El\", \"tiempo\", \"hoy\", \"es\", \"muy\", \"bonito\"]\n",
    "output = reduce (lambda x, y: x + \" \" + y, lista_palabras)\n",
    "print (output)"
   ]
  },
  {
   "cell_type": "markdown",
   "metadata": {},
   "source": [
    "24. Calcula la diferencia total en los valores de una lista. Usa la función reduce() ."
   ]
  },
  {
   "cell_type": "code",
   "execution_count": 101,
   "metadata": {},
   "outputs": [
    {
     "name": "stdout",
     "output_type": "stream",
     "text": [
      " La diferencia total en los valores de la lista dada es: -140\n"
     ]
    }
   ],
   "source": [
    "lista_numeros = [1, 2, 3, 25, 54, 32, 1,7, 8, 9]\n",
    "diferencia_numeros = reduce (lambda x, y: x - y, lista_numeros)\n",
    "print (f\" La diferencia total en los valores de la lista dada es: {diferencia_numeros}\")"
   ]
  },
  {
   "cell_type": "markdown",
   "metadata": {},
   "source": [
    "25. Crea una función que cuente el número de caracteres en una cadena de texto dada."
   ]
  },
  {
   "cell_type": "code",
   "execution_count": 102,
   "metadata": {},
   "outputs": [],
   "source": [
    "def cuenta_caracteres (texto):\n",
    "     \"\"\"\n",
    "    Esta función toma una cadena de texto y devuelve la cantidad de caracteres \n",
    "    que contiene. \n",
    "\n",
    "    Args:\n",
    "    texto (str): La cadena de texto cuya longitud se desea contar.\n",
    "\n",
    "    Returns:\n",
    "    int: El número de caracteres en la cadena de texto.\n",
    "    \"\"\"\n",
    "     return len (texto)"
   ]
  },
  {
   "cell_type": "code",
   "execution_count": 103,
   "metadata": {},
   "outputs": [
    {
     "name": "stdout",
     "output_type": "stream",
     "text": [
      "El numero de caracteres del texto dado es: 21\n"
     ]
    }
   ],
   "source": [
    "texto = \"hola, me llamo Marina\"\n",
    "output = cuenta_caracteres (texto)\n",
    "print (f\"El numero de caracteres del texto dado es: {output}\")"
   ]
  },
  {
   "cell_type": "markdown",
   "metadata": {},
   "source": [
    "26. Crea una función lambda que calcule el resto de la división entre dos números dados.\n"
   ]
  },
  {
   "cell_type": "code",
   "execution_count": 104,
   "metadata": {},
   "outputs": [
    {
     "name": "stdout",
     "output_type": "stream",
     "text": [
      "El resto de dividir los dos numeros dados es: 4\n"
     ]
    }
   ],
   "source": [
    "calcula_resto = lambda x, y : x % y\n",
    "numero1 = 25\n",
    "numero2= 7\n",
    "output = calcula_resto (numero1, numero2)\n",
    "print (f\"El resto de dividir los dos numeros dados es: {output}\")"
   ]
  },
  {
   "cell_type": "markdown",
   "metadata": {},
   "source": [
    "27. Crea una función que calcule el promedio de una lista de números."
   ]
  },
  {
   "cell_type": "code",
   "execution_count": 105,
   "metadata": {},
   "outputs": [],
   "source": [
    "def promedio_numeros(lista_numeros):\n",
    "    \"\"\"\n",
    "    Esta función toma una lista de números y devuelve su promedio, es decir, la suma \n",
    "    de todos los elementos dividida entre la cantidad de elementos de la lista.\n",
    "\n",
    "    Args:\n",
    "    lista_numeros (list): Una lista de números (enteros o flotantes) de los cuales se calculará el promedio.\n",
    "\n",
    "    Returns:\n",
    "    float: El promedio de los números en la lista. Si la lista está vacía, devuelve 0.\n",
    "    \"\"\"\n",
    "    if not lista_numeros:\n",
    "        return 0\n",
    "    return sum(lista_numeros) / len(lista_numeros)\n"
   ]
  },
  {
   "cell_type": "code",
   "execution_count": 106,
   "metadata": {},
   "outputs": [
    {
     "name": "stdout",
     "output_type": "stream",
     "text": [
      "25.0\n"
     ]
    }
   ],
   "source": [
    "lista_numeros = [10, 20, 30, 40]\n",
    "output = promedio_numeros (lista_numeros)\n",
    "print (output)"
   ]
  },
  {
   "cell_type": "markdown",
   "metadata": {},
   "source": [
    "28. Crea una función que busque y devuelva el primer elemento duplicado en una lista dada."
   ]
  },
  {
   "cell_type": "code",
   "execution_count": 107,
   "metadata": {},
   "outputs": [],
   "source": [
    "def primer_duplicado(lista):\n",
    "    \"\"\"\n",
    "    Busca y devuelve el primer elemento duplicado en una lista dada.\n",
    "\n",
    "    Args:\n",
    "    lista (list): Una lista de elementos (pueden ser de cualquier tipo).\n",
    "\n",
    "    Returns:\n",
    "    El primer elemento duplicado si se encuentra, o None si no hay duplicados.\n",
    "    \"\"\"\n",
    "    vistos = set()  # Conjunto para almacenar los elementos ya vistos\n",
    "    for elemento in lista:\n",
    "        if elemento in vistos:\n",
    "            return elemento  # Devuelve el primer duplicado encontrado\n",
    "        else:\n",
    "             vistos.add(elemento)  # Agrega el elemento al conjunto de vistos\n",
    "    return None  # Si no hay duplicados, devuelve None\n"
   ]
  },
  {
   "cell_type": "code",
   "execution_count": 108,
   "metadata": {},
   "outputs": [
    {
     "name": "stdout",
     "output_type": "stream",
     "text": [
      "El primer elemento duplicado de la lista dada es: 2\n"
     ]
    }
   ],
   "source": [
    "lista = [2, 3, 4, 5, 6, 2, 4, 7, 8, 3, 7]\n",
    "output = primer_duplicado (lista)\n",
    "print (f\"El primer elemento duplicado de la lista dada es: {output}\")"
   ]
  },
  {
   "cell_type": "markdown",
   "metadata": {},
   "source": [
    "29. Crea una función que convierta una variable en una cadena de texto y enmascare todos los caracteres con el carácter '#', excepto los últimos cuatro."
   ]
  },
  {
   "cell_type": "code",
   "execution_count": 109,
   "metadata": {},
   "outputs": [],
   "source": [
    "def enmascarar_variable(variable):\n",
    "    \"\"\"\n",
    "    Convierte una variable en una cadena de texto y enmascara todos los caracteres con el carácter '#',\n",
    "    excepto los últimos cuatro caracteres.\n",
    "\n",
    "    Args:\n",
    "    variable (int, float, str): La variable que se convertirá a cadena y enmascarará.\n",
    "\n",
    "    Returns:\n",
    "    str: La cadena resultante con los caracteres enmascarados, excepto los últimos cuatro.\n",
    "\n",
    "    \"\"\"\n",
    "    # Convertir la variable a cadena\n",
    "    cadena = str(variable)\n",
    "    \n",
    "    # Enmascarar los caracteres, excepto los últimos cuatro\n",
    "    if len(cadena) > 4:\n",
    "        return '#' * (len(cadena) - 4) + cadena[-4:]\n",
    "    else: \n",
    "        return cadena  # Si la cadena tiene 4 caracteres o menos, se retorna tal cual\n"
   ]
  },
  {
   "cell_type": "code",
   "execution_count": 110,
   "metadata": {},
   "outputs": [
    {
     "name": "stdout",
     "output_type": "stream",
     "text": [
      " La variable enmascarada queda así: ####5678\n"
     ]
    }
   ],
   "source": [
    "variable = 12345678\n",
    "output = enmascarar_variable (variable)\n",
    "print (f\" La variable enmascarada queda así: { output}\")"
   ]
  },
  {
   "cell_type": "markdown",
   "metadata": {},
   "source": [
    "30. Crea una función que determine si dos palabras son anagramas, es decir, si están formadas por las mismas letras pero en diferente orden."
   ]
  },
  {
   "cell_type": "code",
   "execution_count": 111,
   "metadata": {},
   "outputs": [],
   "source": [
    "def son_anagramas (palabra1, palabra2):\n",
    "     \"\"\"\n",
    "    Determina si dos palabras son anagramas, es decir, si están formadas por las mismas letras\n",
    "    pero en diferente orden.\n",
    "\n",
    "    Args:\n",
    "    palabra1 (str): La primera palabra.\n",
    "    palabra2 (str): La segunda palabra.\n",
    "\n",
    "    Returns:\n",
    "    bool: True si las palabras son anagramas, False en caso contrario.\n",
    "    \"\"\"\n",
    "     return sorted(palabra1.lower()) == sorted(palabra2.lower())"
   ]
  },
  {
   "cell_type": "code",
   "execution_count": 112,
   "metadata": {},
   "outputs": [
    {
     "name": "stdout",
     "output_type": "stream",
     "text": [
      "Si, las palabras dadas son anagramas\n"
     ]
    }
   ],
   "source": [
    "palabra1 = \"japones\"\n",
    "palabra2 = \"esponja\"\n",
    "output = son_anagramas (palabra1, palabra2)\n",
    "if output == True:\n",
    "    print (f\"Si, las palabras dadas son anagramas\")\n",
    "else:\n",
    "    print(\"No, las palabras dadas no son anagramas\")"
   ]
  },
  {
   "cell_type": "markdown",
   "metadata": {},
   "source": [
    "31. Crea una función que solicite al usuario ingresar una lista de nombres y luego solicite un nombre para buscar en esa lista. Si el nombre está en la lista, se imprime un mensaje indicando que fue encontrado, de lo contrario, se lanza una excepción."
   ]
  },
  {
   "cell_type": "code",
   "execution_count": 113,
   "metadata": {},
   "outputs": [],
   "source": [
    "def busca_nombre(lista_nombres, nombre_buscado):\n",
    "    \"\"\"\n",
    "    Busca un nombre en una lista de nombres y muestra un mensaje indicando si fue encontrado.\n",
    "    \n",
    "    Si el nombre no está en la lista, se lanza una excepción que es capturada y mostrada \n",
    "    como un mensaje de error.\n",
    "\n",
    "    Args:\n",
    "    lista_nombres (list): Una lista de nombres en los que se realizará la búsqueda.\n",
    "    nombre_buscado (str): El nombre que se buscará en la lista de nombres.\n",
    "\n",
    "    Returns:\n",
    "    None: La función no retorna ningún valor. Si el nombre se encuentra, imprime un mensaje, y si no se encuentra, lanza una excepción que también imprime un mensaje.\n",
    "\n",
    "    Raises:\n",
    "    ValueError: Si el nombre no se encuentra en la lista, se lanza una excepción con un mensaje de error.\n",
    "    \"\"\"\n",
    "    try:\n",
    "        # Comprobamos si el nombre está en la lista\n",
    "        if nombre_buscado in lista_nombres:\n",
    "            print(f\"El nombre {nombre_buscado} fue encontrado en la lista de nombres dada.\")\n",
    "        else:\n",
    "            # Lanzamos una excepción si el nombre no está en la lista\n",
    "            raise ValueError(f\"El nombre {nombre_buscado} no se encuentra en la lista dada.\")\n",
    "    except ValueError as e:\n",
    "        print(e)\n",
    "\n"
   ]
  },
  {
   "cell_type": "code",
   "execution_count": 114,
   "metadata": {},
   "outputs": [
    {
     "name": "stdout",
     "output_type": "stream",
     "text": [
      "El nombre  fue encontrado en la lista de nombres dada.\n"
     ]
    }
   ],
   "source": [
    "lista_nombres = input (\"Por favor, introduzca una lista de nombres\")\n",
    "nombre_buscado = input (\"Por favor, indica un nombre a buscar en la lista dada anteriormente\")\n",
    "output = busca_nombre(lista_nombres, nombre_buscado)"
   ]
  },
  {
   "cell_type": "markdown",
   "metadata": {},
   "source": [
    "32. Crea una función que tome un nombre completo y una lista de empleados, busque el nombre completo en la lista y devuelve el puesto del empleado si está en la lista, de lo contrario, devuelve un mensaje indicando que la persona no trabaja aquí."
   ]
  },
  {
   "cell_type": "code",
   "execution_count": 115,
   "metadata": {},
   "outputs": [],
   "source": [
    "def buscar_empleado(nombre_completo, lista_empleados):\n",
    "    \"\"\"\n",
    "    Busca un empleado en una lista de empleados y devuelve su puesto si se encuentra.\n",
    "\n",
    "    Esta función recibe un nombre completo y una lista de diccionarios de empleados, donde cada\n",
    "    diccionario contiene 'nombre' y 'puesto'. Si el nombre completo se encuentra en la lista,\n",
    "    se devuelve el puesto del empleado. Si no se encuentra, se devuelve un mensaje indicando \n",
    "    que la persona no trabaja en la empresa.\n",
    "\n",
    "    Args:\n",
    "    nombre_completo (str): El nombre completo del empleado a buscar.\n",
    "    lista_empleados (list): Una lista de diccionarios con los empleados, donde cada diccionario tiene las claves 'nombre' y 'puesto'.\n",
    "\n",
    "    Returns:\n",
    "    str: El puesto del empleado si se encuentra en la lista, o un mensaje indicando que no trabaja aquí si no está en la lista.\n",
    "    \"\"\"\n",
    "    for empleado in lista_empleados:\n",
    "        if empleado['nombre'] == nombre_completo:\n",
    "            return print(f\"El puesto de {nombre_completo} es {empleado['puesto']}\")\n",
    "    \n",
    "    # Si no se encuentra el nombre, devolver el mensaje de error fuera del bucle\n",
    "    return f\"{nombre_completo} no trabaja aquí\"\n",
    "\n"
   ]
  },
  {
   "cell_type": "code",
   "execution_count": 116,
   "metadata": {},
   "outputs": [],
   "source": [
    "nombre_completo = input (\"Indicame que empleado estás buscando\")\n",
    "lista_empleados = [\n",
    "    {\"nombre\": \"Mario Diaz\", \"puesto\": \"account manager\"},\n",
    "    {\"nombre\": \"Roberto Garcia\", \"puesto\": \"business manager\"},\n",
    "    {\"nombre\": \"Maria Gimenez\", \"puesto\": \"accountant\"},\n",
    "    {\"nombre\": \"Sara Welsh\", \"puesto\": \"comercial\"},\n",
    "    {\"nombre\": \"Jaime Foronda\", \"puesto\": \"analista de datos\"}\n",
    "    ]\n",
    "output = buscar_empleado(nombre_completo, lista_empleados)"
   ]
  },
  {
   "cell_type": "markdown",
   "metadata": {},
   "source": [
    "33. Crea una función lambda que sume elementos correspondientes de dos listas dadas."
   ]
  },
  {
   "cell_type": "code",
   "execution_count": 117,
   "metadata": {},
   "outputs": [],
   "source": [
    "suma_elementos_listas = lambda lista1, lista2: list(map(lambda x, y: x + y, lista1, lista2))\n"
   ]
  },
  {
   "cell_type": "code",
   "execution_count": 118,
   "metadata": {},
   "outputs": [
    {
     "name": "stdout",
     "output_type": "stream",
     "text": [
      "La suma de los elementos de las dos listas dadas es: [8, 10, 12, 14, 6, 7]\n"
     ]
    }
   ],
   "source": [
    "lista_elementos1 = [1, 2, 3, 4, 5, 6]\n",
    "lista_elementos2 = [7, 8, 9, 10, 1, 1]\n",
    "output = suma_elementos_listas (lista_elementos1, lista_elementos2)\n",
    "print (f\"La suma de los elementos de las dos listas dadas es: {output}\")"
   ]
  },
  {
   "cell_type": "markdown",
   "metadata": {},
   "source": [
    "34.  Crea la clase Arbol , define un árbol genérico con un tronco y ramas como atributos. Los métodos disponibles son: crecer_tronco , nueva_rama , crecer_ramas , quitar_rama e info_arbol . El objetivo es implementar estos métodos paranmanipular la estructura del árbol.\n"
   ]
  },
  {
   "cell_type": "code",
   "execution_count": 119,
   "metadata": {},
   "outputs": [],
   "source": [
    "class Arbol:\n",
    "    def __init__(self):\n",
    "        self.tronco = 1\n",
    "        self.ramas = []\n",
    "        \n",
    "    def crecer_tronco (self):\n",
    "        self.tronco +=1\n",
    "    \n",
    "    def nueva_rama (self):\n",
    "        self.ramas.append(1)\n",
    "\n",
    "    def crecer_ramas (self):\n",
    "        self.ramas = [longitud +1 for longitud in self.ramas]\n",
    "\n",
    "    def quitar_rama (self, posicion):\n",
    "        if 0 <= posicion < len(self.ramas):\n",
    "            del self.ramas[posicion]\n",
    "        else: \n",
    "             print (\"posición invalida\")\n",
    "\n",
    "    def info_arbol (self):\n",
    "        return {\n",
    "            \"longitud_tronco\": self.tronco,\n",
    "            \"numero_ramas\": len(self.ramas),\n",
    "            \"longitudes_ramas\": self.ramas\n",
    "        }\n",
    "\n"
   ]
  },
  {
   "cell_type": "code",
   "execution_count": 120,
   "metadata": {},
   "outputs": [
    {
     "name": "stdout",
     "output_type": "stream",
     "text": [
      "{'longitud_tronco': 2, 'numero_ramas': 2, 'longitudes_ramas': [2, 1]}\n"
     ]
    }
   ],
   "source": [
    "naranjo = Arbol()                            #1. Crear un arbol\n",
    "naranjo.crecer_tronco()               #2. Hacer crecer el tronco una unidad\n",
    "naranjo.nueva_rama()                  #3. Añadir una nueva rama\n",
    "naranjo.crecer_ramas()                #4. Hacer crecer todas las ramas\n",
    "naranjo.nueva_rama()                  #5. Añadir otra rama\n",
    "naranjo.nueva_rama()                  #5.Añadir otra rama\n",
    "naranjo.quitar_rama(2)                #6. Retirar la rama en la posición 2\n",
    "info = naranjo.info_arbol()            #7. Obtener información\n",
    "\n",
    "print (info)"
   ]
  },
  {
   "cell_type": "markdown",
   "metadata": {},
   "source": [
    "36. Crea la clase UsuarioBanco ,representa a un usuario de un banco con su nombre, saldo y si tiene o no cuenta corriente. Proporciona métodos para realizar operaciones como retirar dinero, transferir dinero desde otro usuario y agregar dinero al saldo."
   ]
  },
  {
   "cell_type": "code",
   "execution_count": 121,
   "metadata": {},
   "outputs": [],
   "source": [
    "class UsuarioBanco:\n",
    "    def __init__(self, nombre, saldo, tiene_cuenta_corriente):\n",
    "        self.nombre = nombre\n",
    "        self.saldo = saldo\n",
    "        self.tiene_cuenta_corriente = tiene_cuenta_corriente\n",
    "\n",
    "    def retirar_dinero(self, cantidad):\n",
    "        if cantidad <= 0:\n",
    "            raise ValueError(\"La cantidad a retirar debe ser positiva.\")\n",
    "        if self.saldo < cantidad:\n",
    "            raise ValueError(f\"No hay suficiente saldo para retirar {cantidad} €. Saldo actual: {self.saldo} €.\")\n",
    "        self.saldo -= cantidad\n",
    "        print(f\"{self.nombre} ha retirado {cantidad} €. Nuevo saldo: {self.saldo} €.\")\n",
    "\n",
    "    def transferir_dinero(self, otro_usuario, cantidad):\n",
    "        if not isinstance(otro_usuario, UsuarioBanco):\n",
    "            raise TypeError(\"El usuario origen debe ser una instancia de UsuarioBanco.\")\n",
    "        if cantidad <= 0:\n",
    "            raise ValueError(\"La cantidad a transferir debe ser positiva.\")\n",
    "        if otro_usuario.saldo < cantidad:\n",
    "            raise ValueError(f\"{otro_usuario.nombre} no tiene suficiente saldo para transferir {cantidad} €.\")\n",
    "        otro_usuario.saldo -= cantidad\n",
    "        self.saldo += cantidad\n",
    "        print(f\"{otro_usuario.nombre} ha transferido {cantidad} € a {self.nombre}.\")\n",
    "        print(f\"Saldo de {otro_usuario.nombre}: {otro_usuario.saldo} €, Saldo de {self.nombre}: {self.saldo} €.\")\n",
    "\n",
    "    def agregar_dinero(self, cantidad):\n",
    "        if cantidad <= 0:\n",
    "            raise ValueError(\"La cantidad a agregar debe ser positiva.\")\n",
    "        self.saldo += cantidad\n",
    "        print(f\"{self.nombre} ha agregado {cantidad} €. Nuevo saldo: {self.saldo} €.\")\n",
    "\n"
   ]
  },
  {
   "cell_type": "markdown",
   "metadata": {},
   "source": [
    "36. Caso de Uso\n",
    "\n",
    "1.Crear dos usuarios: \"Alicia\" con saldo inicial de 100 y \"Bob\" con saldo inicial de 50, ambos con cuenta corriente.\n",
    "2.Agregar 20 unidades de saldo de \"Bob\".\n",
    "3.Hacer una transferencia de 80 unidades desde \"Bob\" a \"Alicia\". \n",
    "4.Retirar 50 unidades de saldo a \"Alicia\"."
   ]
  },
  {
   "cell_type": "code",
   "execution_count": 122,
   "metadata": {},
   "outputs": [
    {
     "name": "stdout",
     "output_type": "stream",
     "text": [
      "Bob ha agregado 20 €. Nuevo saldo: 70 €.\n",
      "Bob ha agregado 10 €. Nuevo saldo: 80 €.\n",
      "Bob ha transferido 80 € a Alicia.\n",
      "Saldo de Bob: 0 €, Saldo de Alicia: 180 €.\n",
      "Alicia ha retirado 50 €. Nuevo saldo: 130 €.\n"
     ]
    }
   ],
   "source": [
    "# Paso 1: Crear usuarios\n",
    "alicia = UsuarioBanco(\"Alicia\", 100, True)\n",
    "bob = UsuarioBanco(\"Bob\", 50, True)\n",
    "\n",
    "# Paso 2: Agregar 20 unidades al saldo de Bob\n",
    "bob.agregar_dinero(20)  # Saldo de Bob: 70\n",
    "\n",
    "# Paso 3: Transferir 80 unidades desde Bob a Alicia\n",
    "# Esto lanzará error porque Bob solo tiene 70. Por lo tanto le agregamos 10.\n",
    "bob.agregar_dinero(10)  # Saldo total ahora: 80\n",
    "\n",
    "# Transferimos dinero de Bob a Alicia\n",
    "alicia.transferir_dinero(bob, 80)  # Alicia recibirá 80\n",
    "\n",
    "# Paso 4: Retirar 50 unidades de saldo de Alicia\n",
    "alicia.retirar_dinero(50)  # Nuevo saldo de Alicia\n"
   ]
  },
  {
   "cell_type": "markdown",
   "metadata": {},
   "source": [
    "37. Crea una función llamada procesar_texto que procesa un texto según la opción especificada: contar_palabras , reemplazar_palabras , eliminar_palabra . Estas opciones son otras funciones que tenemos que definir primero y llamar dentro\n",
    "de la función procesar_texto . Código a seguir:\n",
    "1.Crear una función contar_palabras para contar el número de veces que aparece cada palabra en el texto. Tiene que devolver un diccionario.\n",
    "2.Crear una función reemplazar_palabras para remplazar una palabra_original del texto por una palabra_nueva . Tiene que devolver el texto con el remplazo de palabras.\n",
    "3.Crear una función eliminar_palabra para eliminar una palabra del texto. Tiene que devolver el texto con la palabra eliminada.\n",
    "4.Crear la función procesar_texto que tome un texto, una opción(entre \"contar\", \"reemplazar\", \"eliminar\") y un número de argumentos variable según la opción indicada."
   ]
  },
  {
   "cell_type": "code",
   "execution_count": 123,
   "metadata": {},
   "outputs": [],
   "source": [
    "def contar_palabras(texto):\n",
    "    palabras = texto.lower().split()\n",
    "    conteo = {}\n",
    "    for palabra in palabras:\n",
    "        palabra = palabra.strip(\".,;:!?\")  # Limpieza básica\n",
    "        conteo[palabra] = conteo.get(palabra, 0) + 1\n",
    "    return conteo\n",
    "\n",
    "def reemplazar_palabras(texto, palabra_original, palabra_nueva):\n",
    "    return texto.replace(palabra_original, palabra_nueva)\n",
    "\n",
    "def eliminar_palabra(texto, palabra_a_eliminar):\n",
    "    palabras = texto.split()\n",
    "    resultado = [palabra for palabra in palabras if palabra != palabra_a_eliminar]\n",
    "    return ' '.join(resultado)\n",
    "\n",
    "def procesar_texto(texto, opcion, *args):\n",
    "    if opcion == \"contar\":\n",
    "        return contar_palabras(texto)\n",
    "    elif opcion == \"reemplazar\":\n",
    "        if len(args) != 2:\n",
    "            raise ValueError(\"Para 'reemplazar' necesitas palabra_original y palabra_nueva\")\n",
    "        return reemplazar_palabras(texto, args[0], args[1])\n",
    "    elif opcion == \"eliminar\":\n",
    "        if len(args) != 1:\n",
    "            raise ValueError(\"Para 'eliminar' necesitas la palabra a eliminar\")\n",
    "        return eliminar_palabra(texto, args[0])\n",
    "    else:\n",
    "        raise ValueError(\"Opción no válida. Usa 'contar', 'reemplazar' o 'eliminar'\")\n",
    "\n"
   ]
  },
  {
   "cell_type": "markdown",
   "metadata": {},
   "source": [
    "37. Caso de Uso\n",
    "Comprueba el funcionamiento completo de la función procesar_texto"
   ]
  },
  {
   "cell_type": "code",
   "execution_count": 124,
   "metadata": {},
   "outputs": [
    {
     "name": "stdout",
     "output_type": "stream",
     "text": [
      "Conteo de palabras: {'hola': 2, 'gente': 1, 'me': 2, 'llamo': 2, 'marina': 1}\n",
      "Texto tras reemplazo: hola gente, hola me soy Marina me soy\n",
      "Texto tras eliminar: hola gente, hola llamo Marina llamo\n"
     ]
    }
   ],
   "source": [
    "texto = \"hola gente, hola me llamo Marina me llamo\"\n",
    "\n",
    "resultado_contar = procesar_texto(texto, \"contar\")\n",
    "print(\"Conteo de palabras:\", resultado_contar)\n",
    "\n",
    "resultado_reemplazo = procesar_texto(texto, \"reemplazar\", \"llamo\", \"soy\")\n",
    "print(\"Texto tras reemplazo:\", resultado_reemplazo)\n",
    "\n",
    "resultado_eliminar = procesar_texto(texto, \"eliminar\", \"me\")\n",
    "print(\"Texto tras eliminar:\", resultado_eliminar)\n",
    "\n"
   ]
  },
  {
   "cell_type": "markdown",
   "metadata": {},
   "source": [
    "38. Genera un programa que nos diga si es de noche, de día o tarde según la hora proporcionada por el usuario."
   ]
  },
  {
   "cell_type": "code",
   "execution_count": 125,
   "metadata": {},
   "outputs": [
    {
     "name": "stdout",
     "output_type": "stream",
     "text": [
      "Por favor, introduce un número entero válido.\n"
     ]
    }
   ],
   "source": [
    "def momento_del_dia(hora):\n",
    "    if hora < 0 or hora > 23:\n",
    "        return \"La hora introducida no es válida. Introduce un número entre 0 y 23.\"\n",
    "    elif 6 <= hora < 12:\n",
    "        return \"Es de día (mañana).\"\n",
    "    elif 12 <= hora < 18:\n",
    "        return \"Es de tarde.\"\n",
    "    else:\n",
    "        return \"Es de noche.\"\n",
    "\n",
    "\n",
    "try:\n",
    "    entrada = input(\"Introduce la hora actual (0-23): \")\n",
    "    hora = int(entrada)\n",
    "    resultado = momento_del_dia(hora)\n",
    "    print(resultado)\n",
    "except ValueError:\n",
    "    print(\"Por favor, introduce un número entero válido.\")\n"
   ]
  },
  {
   "cell_type": "markdown",
   "metadata": {},
   "source": [
    "39.  Escribe un programa que determine qué calificación en texto tiene un alumno en base a su calificación numérica. Las reglas de calificación son:\n",
    "- 0 - 69 insuficiente\n",
    "-  70 - 79 bien\n",
    "-  80 - 89 muy bien\n",
    "-  90 - 100 excelente"
   ]
  },
  {
   "cell_type": "code",
   "execution_count": 126,
   "metadata": {},
   "outputs": [
    {
     "name": "stdout",
     "output_type": "stream",
     "text": [
      "Por favor, introduce un número entero válido.\n"
     ]
    }
   ],
   "source": [
    "def calificacion_en_texto(nota):\n",
    "    if nota < 0 or nota > 100:\n",
    "        return \"Calificación no válida. Debe estar entre 0 y 100.\"\n",
    "    elif nota < 70:\n",
    "        return \"Insuficiente\"\n",
    "    elif nota < 80:\n",
    "        return \"Bien\"\n",
    "    elif nota < 90:\n",
    "        return \"Muy bien\"\n",
    "    else:\n",
    "        return \"Excelente\"\n",
    "\n",
    "\n",
    "try:\n",
    "    entrada = input(\"Introduce la calificación numérica del alumno (0-100): \")\n",
    "    nota = int(entrada)\n",
    "    resultado = calificacion_en_texto(nota)\n",
    "    print(\"Resultado:\", resultado)\n",
    "except ValueError:\n",
    "    print(\"Por favor, introduce un número entero válido.\")\n"
   ]
  },
  {
   "cell_type": "markdown",
   "metadata": {},
   "source": [
    "40. Escribe una función que tome dos parámetros: figura (una cadena que puede ser \"rectangulo\" , \"circulo\" o\n",
    "\"triangulo\" ) y datos (una tupla con los datos necesarios para calcular el área de la figura)."
   ]
  },
  {
   "cell_type": "code",
   "execution_count": 127,
   "metadata": {},
   "outputs": [],
   "source": [
    "import math\n",
    "\n",
    "def calcular_area(figura, datos):\n",
    "    figura = figura.lower()  \n",
    "    \n",
    "    if figura == \"rectangulo\":\n",
    "        if len(datos) != 2:\n",
    "            return \"Para un rectángulo se necesitan base y altura.\"\n",
    "        base, altura = datos\n",
    "        return base * altura\n",
    "\n",
    "    elif figura == \"circulo\":\n",
    "        if len(datos) != 1:\n",
    "            return \"Para un círculo se necesita solo el radio.\"\n",
    "        radio = datos[0]\n",
    "        return math.pi * radio ** 2\n",
    "\n",
    "    elif figura == \"triangulo\":\n",
    "        if len(datos) != 2:\n",
    "            return \"Para un triángulo se necesitan base y altura.\"\n",
    "        base, altura = datos\n",
    "        return (base * altura) / 2\n",
    "\n",
    "    else:\n",
    "        return \"Figura no reconocida. Usa 'rectangulo', 'circulo' o 'triangulo'.\"\n"
   ]
  },
  {
   "cell_type": "markdown",
   "metadata": {},
   "source": [
    "41. En este ejercicio, se te pedirá que escribas un programa en Python que utilice condicionales para determinar el monto final de una compra en una tienda en línea, después de aplicar un descuento. El programa debe hacer lo siguiente:\n",
    "1.Solicita al usuario que ingrese el precio original de un artículo.\n",
    "2.Pregunta al usuario si tiene un cupón de descuento (respuesta sí o no).\n",
    "3.Si el usuario responde que sí, solicita que ingrese el valor del cupón de descuento.\n",
    "4.Aplica el descuento al precio original del artículo, siempre y cuando el valor del cupón sea válido (es decir, mayor a cero). Por ejemplo, descuento de 15€.\n",
    "5.Muestra el precio final de la compra, teniendo en cuenta el descuento aplicado o sin él.\n",
    "6.Recuerda utilizar estructuras de control de flujo como if, elif y else para llevar a cabo estas acciones en tu programa de Python."
   ]
  },
  {
   "cell_type": "code",
   "execution_count": 1,
   "metadata": {},
   "outputs": [
    {
     "name": "stdout",
     "output_type": "stream",
     "text": [
      "Sin cupón. Precio final: 50.00 €\n"
     ]
    }
   ],
   "source": [
    "def calcular_precio_final():\n",
    "    try:\n",
    "        precio_original = float(input(\"Introduce el precio original del artículo: \"))\n",
    "\n",
    "        if precio_original < 0:\n",
    "            print(\"El precio no puede ser negativo.\")\n",
    "            return\n",
    "\n",
    "        tiene_cupon = input(\"Tienes un cupón de descuento? (sí/no): \").strip().lower()\n",
    "\n",
    "        if tiene_cupon == \"sí\" or tiene_cupon == \"si\":\n",
    "            valor_cupon = float(input(\"Introduce el valor del cupón: \"))\n",
    "            \n",
    "            if valor_cupon > 0:\n",
    "                precio_final = max(precio_original - valor_cupon, 0)\n",
    "                print(f\" Cupón aplicado. Precio final: {precio_final:.2f} €\")\n",
    "            else:\n",
    "                print(\"El cupón no es válido. Se usará el precio original.\")\n",
    "                print(f\"Precio final: {precio_original:.2f} €\")\n",
    "        else:\n",
    "            print(f\"Sin cupón. Precio final: {precio_original:.2f} €\")\n",
    "\n",
    "    except ValueError:\n",
    "        print(\"Entrada no válida. Asegúrate de introducir números correctamente.\")\n",
    "\n",
    "\n",
    "calcular_precio_final()\n"
   ]
  }
 ],
 "metadata": {
  "kernelspec": {
   "display_name": "Python 3",
   "language": "python",
   "name": "python3"
  },
  "language_info": {
   "codemirror_mode": {
    "name": "ipython",
    "version": 3
   },
   "file_extension": ".py",
   "mimetype": "text/x-python",
   "name": "python",
   "nbconvert_exporter": "python",
   "pygments_lexer": "ipython3",
   "version": "3.13.0"
  }
 },
 "nbformat": 4,
 "nbformat_minor": 2
}
